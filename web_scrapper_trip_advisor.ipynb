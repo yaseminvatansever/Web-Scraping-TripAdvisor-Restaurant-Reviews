{
 "cells": [
  {
   "cell_type": "markdown",
   "metadata": {},
   "source": [
    "## Web Scraping from Trip Advisor (Restaurant Reviews and Ratings)"
   ]
  },
  {
   "cell_type": "code",
   "execution_count": 3,
   "metadata": {},
   "outputs": [
    {
     "name": "stdout",
     "output_type": "stream",
     "text": [
      "0\n",
      "https://www.tripadvisor.com/Restaurant_Review-g255580-d725790-Reviews-Bar_Baa-Mangere_North_Island.html\n",
      "10\n",
      "https://www.tripadvisor.com/Restaurant_Review-g255580-d725790-Reviews-or10-Bar_Baa-Mangere_North_Island.html\n"
     ]
    }
   ],
   "source": [
    "import requests\n",
    "from bs4 import BeautifulSoup\n",
    "from time import sleep\n",
    "\n",
    "dataset = []\n",
    "headers = {'User-Agent': 'Mozilla/5.0 (Macintosh; Intel Mac OS X 10_11_6) AppleWebKit/601.3.9 (KHTML, like Gecko) Version/9.0.2 Safari/601.3.9'}\n",
    "\n",
    "# pages goes like 10, 20, 30, ... so on (in the link)\n",
    "# arrange the range according to the number of review pages of the restaurant\n",
    "for page in range(0,100,10):\n",
    "    print(page)\n",
    "    url = \"\"\n",
    "    if page==0:\n",
    "        #url = \"https://www.tripadvisor.com/Restaurant_Review-g255106-d10196547-Reviews-Kiss_Kiss-Auckland_Central_North_Island.html\"\n",
    "        #url = \"https://www.tripadvisor.com/Restaurant_Review-g255106-d1961280-Reviews-Grasshopper_Restaurant-Auckland_Central_North_Island.html\"\n",
    "        #url = \"https://www.tripadvisor.com/Restaurant_Review-g609159-d6784004-Reviews-Porterhouse_Grill-Manukau_North_Island.html\"\n",
    "        #url = \"https://www.tripadvisor.com/Restaurant_Review-g255106-d2034245-Reviews-Blue_Elephant_Thai_Restaurant_Parnell-Auckland_Central_North_Island.html\"\n",
    "        #url = \"https://www.tripadvisor.com/Restaurant_Review-g255106-d723762-Reviews-Katsura_Japanese_Cuisine-Auckland_Central_North_Island.html\"\n",
    "        #url = \"https://www.tripadvisor.com/Restaurant_Review-g255106-d724421-Reviews-Non_Solo_Pizza-Auckland_Central_North_Island.html\"\n",
    "        #url = \"https://www.tripadvisor.com/Restaurant_Review-g255106-d723156-Reviews-Fortuna_Buffet_Restaurant-Auckland_Central_North_Island.html\"\n",
    "        url = \"https://www.tripadvisor.com/Restaurant_Review-g255580-d725790-Reviews-Bar_Baa-Mangere_North_Island.html\"\n",
    "    else:\n",
    "        #url = f\"https://www.tripadvisor.com/Restaurant_Review-g255106-d10196547-Reviews-or{page}-Kiss_Kiss-Auckland_Central_North_Island.html\"\n",
    "        #url= f\"https://www.tripadvisor.com/Restaurant_Review-g255106-d1961280-Reviews-or{page}-Grasshopper_Restaurant-Auckland_Central_North_Island.html\"\n",
    "        #url = f\"https://www.tripadvisor.com/Restaurant_Review-g609159-d6784004-Reviews-or{page}-Porterhouse_Grill-Manukau_North_Island.html\"\n",
    "        #url = f\"https://www.tripadvisor.com/Restaurant_Review-g255106-d2034245-Reviews-or{page}-Blue_Elephant_Thai_Restaurant_Parnell-Auckland_Central_North_Island.html\"\n",
    "        #url = f\"https://www.tripadvisor.com/Restaurant_Review-g255106-d723762-Reviews-or{page}-Katsura_Japanese_Cuisine-Auckland_Central_North_Island.html\"\n",
    "        #url = f\"https://www.tripadvisor.com/Restaurant_Review-g255106-d724421-Reviews-or{page}-Non_Solo_Pizza-Auckland_Central_North_Island.html\"\n",
    "        #url = f\"https://www.tripadvisor.com/Restaurant_Review-g255106-d723156-Reviews-or{page}-Fortuna_Buffet_Restaurant-Auckland_Central_North_Island.html\"\n",
    "        url = f\"https://www.tripadvisor.com/Restaurant_Review-g255580-d725790-Reviews-or{page}-Bar_Baa-Mangere_North_Island.html\"\n",
    "\n",
    "    print(url)\n",
    "    response = requests.get(url,headers=headers)\n",
    "    soup = BeautifulSoup(response.content, 'lxml')\n",
    "    aa = soup.select('.review-container')\n",
    "\n",
    "    for div in aa:\n",
    "        data = {}\n",
    "        data[\"review\"] = div.select('.partial_entry')[0].get_text()\n",
    "        a = str(div.select('.ui_bubble_rating'))\n",
    "\n",
    "        if a.find(\"50\") != -1:\n",
    "            data[\"rating\"] = 5\n",
    "        elif a.find(\"40\") != -1:   \n",
    "            data[\"rating\"] = 4\n",
    "        elif a.find(\"30\") != -1:   \n",
    "            data[\"rating\"] = 3\n",
    "        elif a.find(\"20\") != -1:\n",
    "            data[\"rating\"] = 2\n",
    "        else:\n",
    "            data[\"rating\"] = 1\n",
    "\n",
    "        dataset.append(data)\n",
    "\n",
    "        sleep(2)\n",
    "\n",
    "import pandas as pd\n",
    "df = pd.DataFrame(dataset)\n",
    "df.to_csv('web_scraper_out.csv', mode='a', header=False, index=False)"
   ]
  },
  {
   "cell_type": "markdown",
   "metadata": {},
   "source": [
    "after finishing web scraping add column names to the table"
   ]
  }
 ],
 "metadata": {
  "interpreter": {
   "hash": "79aef8a0412c070c4a9ac8ca62c344059f8c43fdc1375a63b1cceaefa130f451"
  },
  "kernelspec": {
   "display_name": "Python 3.9.7 64-bit",
   "language": "python",
   "name": "python3"
  },
  "language_info": {
   "codemirror_mode": {
    "name": "ipython",
    "version": 3
   },
   "file_extension": ".py",
   "mimetype": "text/x-python",
   "name": "python",
   "nbconvert_exporter": "python",
   "pygments_lexer": "ipython3",
   "version": "3.9.7"
  },
  "orig_nbformat": 4
 },
 "nbformat": 4,
 "nbformat_minor": 2
}
